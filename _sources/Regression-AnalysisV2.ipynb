{
 "cells": [
  {
   "cell_type": "markdown",
   "id": "18a0a43f-0209-4311-a0ee-bd566f2ac1c0",
   "metadata": {},
   "source": [
    "## Regression in Python"
   ]
  },
  {
   "cell_type": "code",
   "execution_count": 19,
   "id": "27b8bd71-b39d-4869-ab1c-6946fe1b3c6b",
   "metadata": {},
   "outputs": [],
   "source": [
    "import pandas as pd\n",
    "import math\n",
    "import numpy as np\n",
    "import numpy as np\n",
    "import pandas as pd\n",
    "import shapefile as shp\n",
    "import matplotlib.pyplot as plt\n",
    "import seaborn as sns\n",
    "\n",
    "from cancerolstools import preprocess as pp\n",
    "from cancerolstools import ols as ls"
   ]
  },
  {
   "cell_type": "markdown",
   "id": "6ed092bc-ff12-4192-a570-be7f3fef7175",
   "metadata": {
    "user_expressions": []
   },
   "source": [
    "## Step 1: Preprocessing the Data"
   ]
  },
  {
   "cell_type": "markdown",
   "id": "4781140b-1a27-4176-b663-889148813dc2",
   "metadata": {
    "user_expressions": []
   },
   "source": [
    "In this step, we will utilize the cancerolstools preprocess module along with some functions from the ols module to clean the data and make it suitable for linear modeling. Namely, we will start by applying the preprocessing steps detailed in the Data Preparation phase, and then apply a convenient technique to convert the names of states into integers for later convenience in the project."
   ]
  },
  {
   "cell_type": "code",
   "execution_count": 20,
   "id": "279de59a-a847-4f76-96db-cb6fd5f0072f",
   "metadata": {},
   "outputs": [],
   "source": [
    "fips_df = pp.import_fips()\n",
    "cancer_df = pp.import_cancer()"
   ]
  },
  {
   "cell_type": "code",
   "execution_count": 21,
   "id": "d2655f3e-cede-4a12-9ef1-c7bcc30c9017",
   "metadata": {},
   "outputs": [],
   "source": [
    "cancer_df = pp.cancer_preprocess(cancer_df)\n",
    "\n",
    "state_dict = ls.make_state_dict()"
   ]
  },
  {
   "cell_type": "code",
   "execution_count": 22,
   "id": "4639219a-ee01-401f-aa00-8ca9b0349aed",
   "metadata": {},
   "outputs": [],
   "source": [
    "cancer_int_df = ls.cancer_int(cancer_df)"
   ]
  },
  {
   "cell_type": "markdown",
   "id": "74dba154-5f19-40ac-a035-8153fd39396d",
   "metadata": {
    "user_expressions": []
   },
   "source": [
    "We begin our discussion by observing the percentage of values in each column that are recorded as NA. As linear regression will require some kind of value for these rows in order to generate a prediction, we will need to determine an appropriate method to impute heavily missing variables, and also diagnose if these variables are significant to the model."
   ]
  },
  {
   "cell_type": "code",
   "execution_count": 23,
   "id": "b4a2f215-7158-4e44-aa5b-99af758d22b4",
   "metadata": {},
   "outputs": [
    {
     "data": {
      "text/plain": [
       "avgAnnCount                 0.000000\n",
       "avgDeathsPerYear            0.000000\n",
       "TARGET_deathRate            0.000000\n",
       "incidenceRate               0.000000\n",
       "medIncome                   0.000000\n",
       "popEst2015                  0.000000\n",
       "povertyPercent              0.000000\n",
       "studyPerCap                 0.000000\n",
       "MedianAge                   0.000000\n",
       "MedianAgeMale               0.000000\n",
       "MedianAgeFemale             0.000000\n",
       "AvgHouseholdSize            0.000000\n",
       "PercentMarried              0.000000\n",
       "PctNoHS18_24                0.000000\n",
       "PctHS18_24                  0.000000\n",
       "PctSomeCol18_24            74.991795\n",
       "PctBachDeg18_24             0.000000\n",
       "PctHS25_Over                0.000000\n",
       "PctBachDeg25_Over           0.000000\n",
       "PctEmployed16_Over          4.988513\n",
       "PctUnemployed16_Over        0.000000\n",
       "PctPrivateCoverage          0.000000\n",
       "PctPrivateCoverageAlone    19.986872\n",
       "PctEmpPrivCoverage          0.000000\n",
       "PctPublicCoverage           0.000000\n",
       "PctPublicCoverageAlone      0.000000\n",
       "PctWhite                    0.000000\n",
       "PctBlack                    0.000000\n",
       "PctAsian                    0.000000\n",
       "PctOtherRace                0.000000\n",
       "PctMarriedHouseholds        0.000000\n",
       "BirthRate                   0.000000\n",
       "Target_div_Income           0.000000\n",
       "State                       0.000000\n",
       "Target_div_LogIncome        0.000000\n",
       "dtype: float64"
      ]
     },
     "execution_count": 23,
     "metadata": {},
     "output_type": "execute_result"
    }
   ],
   "source": [
    "moddat = cancer_int_df\n",
    "(moddat.isna().mean())*100"
   ]
  },
  {
   "cell_type": "markdown",
   "id": "3f63ba57-75fa-4553-aa4b-5da98be83faf",
   "metadata": {
    "user_expressions": []
   },
   "source": [
    "Since PctSomeCol18_24 has a NA rate of 74.99%, and represents the inbetween between high\n",
    "school diploma and bachelors, we can justify excluding it.\n",
    "PctEmployed16_Over has only a 4.99% NA rate, and PctPublicCoverageAlone, which is the\n",
    "percentage of county residents with government-provided health coverage alone, has a 19.99%\n",
    "NA rate, but seems too important to ignore if we wish to consider the status of coverage as a\n",
    "variable(s).\n",
    "Let us do MICE (Multiple Imputation by Chained Equations) to replace these NA values with\n",
    "very likely substitutions. MICE operates under the assumption that the data missing is MAR\n",
    "(Missing at Random).\n",
    "Due to the data collection process (each row represents a county), the likely possible bias is\n",
    "that certain states refuse or fail to collect these variables in a systematic way, and thus the\n",
    "data is no longer MAR. We will check this assumption towards the end of the modelling by\n",
    "considering our finalized model on both the imputated and original dataset (rows including\n",
    "NA’s will be removed), and assess their similarities. Regardless, modelling will be done using\n",
    "the imputed dataset, assuming MAR."
   ]
  },
  {
   "cell_type": "code",
   "execution_count": 24,
   "id": "24178712-522a-41b0-97f9-bae788e9a910",
   "metadata": {},
   "outputs": [],
   "source": [
    "# Drop the 18th column from the dataframe\n",
    "trim = moddat.drop(columns=['PctSomeCol18_24'])\n",
    "\n",
    "from sklearn.experimental import enable_iterative_imputer\n",
    "from sklearn.impute import IterativeImputer\n",
    "\n",
    "# create an instance of the imputer class\n",
    "imputer = IterativeImputer(max_iter=50, random_state=0)\n",
    "\n",
    "# fit the imputer on the data\n",
    "imputer.fit(trim)\n",
    "\n",
    "# impute the missing values\n",
    "imputed_data = imputer.transform(trim)\n",
    "\n",
    "# convert the imputed data to a pandas DataFrame\n",
    "imputed_df = pd.DataFrame(imputed_data, columns=trim.columns)"
   ]
  },
  {
   "cell_type": "markdown",
   "id": "85b202b6-2400-423a-bd61-a12111b31afc",
   "metadata": {
    "user_expressions": []
   },
   "source": [
    "Initial variable selection for our model will be informed by domain knowledge and insight gained from prior visualization of the data.\n",
    "\n",
    "Literature on socioeconomic factors affecting cancer mortality point to poverty, education, and race as some of the most important factors. In the 2017 paper \"Socioeconomic and Racial/Ethnic Disparities in Cancer Mortality, Incidence, and Survival in the United States, 1950--2014: Over Six Decades of Changing Patterns and Widening Inequalities,\" the authors concluded that individuals in lower income and education groups had significantly higher mortality and incidence rates. The authors also noted that Blacks had significantly higher mortality and incidence rates than other races. In the 2021 paper \"Leading cancers contributing to educational disparities in cancer mortality in the US, 2017,\" the authors concluded that there was a significant difference between the mortality rate between individuals with a bachelors degree and higher, and all education levels below that. Since both these studies use data exclusively from the U.S., and are within the the time frame of interest to us, we are comfortable using these conclusions to guide our variable selection.\n",
    "\n",
    "The visualizations of our own data support these conclusions as well as suggest a categorical variable indicating whether a given county is in the Southwest region.\n",
    "\n",
    "Additionally, the conclusions from the second paper suggest two new variables, **PctNoHS18_24** and **PctHS18_24**, which represent thepercent of county residents ages 18-24 whose highest education attained is less than a high school degree, and then a high school degree, respectively. While there are several other variables related to educational goals, such as percentage of county residents ages 18-24 who have attained a bachelors, the literature above suggests that residents with lower educational achievements have a higher cancer mortality, while the opposite is not necessarily true.\n",
    "\n",
    "The variables for the initial model will be povertyPercent (Percent of populace in poverty), PctBlack, and PctNoHS18 and PctHS18_24. For future investigation we will consider isSouthEast (a categorical variable created later), as well as the variables related to healthcare coverage (**PctPrivateCoverage, PctPrivateCoverageAlone, PctEmpPrivCoverage, PctPublicCoverage, PctPubliceCoverageAlone).**\n",
    "\n"
   ]
  },
  {
   "cell_type": "markdown",
   "id": "370f2124-0384-463f-a36a-2c7918e457c0",
   "metadata": {
    "user_expressions": []
   },
   "source": [
    "Firstly, let us examine the variables selected to see if any transformations would be appropriate."
   ]
  },
  {
   "cell_type": "code",
   "execution_count": 25,
   "id": "62d1fca4-9d49-4426-8af3-5b4be5d03d77",
   "metadata": {},
   "outputs": [
    {
     "data": {
      "image/png": "[encoded data removed]",
      "text/plain": [
       "<Figure size 640x480 with 1 Axes>"
      ]
     },
     "metadata": {},
     "output_type": "display_data"
    },
    {
     "data": {
      "image/png": "[encoded data removed]",
      "text/plain": [
       "<Figure size 640x480 with 1 Axes>"
      ]
     },
     "metadata": {},
     "output_type": "display_data"
    },
    {
     "data": {
      "text/plain": [
       "<Figure size 640x480 with 0 Axes>"
      ]
     },
     "metadata": {},
     "output_type": "display_data"
    }
   ],
   "source": [
    "imputed_new = imputed_df.copy() # create a copy of imputed\n",
    "import matplotlib.pyplot as plt # import the matplotlib library for plotting\n",
    "\n",
    "plt.hist(imputed_new['povertyPercent'])\n",
    "plt.title('Histogram of imputed_new$povertyPercent')\n",
    "plt.xlabel('imputed_new$povertyPercent')\n",
    "plt.ylabel('Frequency')\n",
    "plt.show()\n",
    "\n",
    "plt.hist(imputed_new['PctBlack'])\n",
    "plt.title('Histogram of imputed_new$povertyPercent')\n",
    "plt.xlabel('imputed_new$PctBlack')\n",
    "plt.ylabel('Frequency')\n",
    "plt.show()\n",
    "plt.savefig('figures/Poverty_Percent_Hist.png')"
   ]
  },
  {
   "cell_type": "code",
   "execution_count": 26,
   "id": "1a2f8c4f-387d-484b-9e60-31b962b55427",
   "metadata": {},
   "outputs": [
    {
     "name": "stdout",
     "output_type": "stream",
     "text": [
      "                            OLS Regression Results                            \n",
      "==============================================================================\n",
      "Dep. Variable:       TARGET_deathRate   R-squared:                       0.240\n",
      "Model:                            OLS   Adj. R-squared:                  0.239\n",
      "Method:                 Least Squares   F-statistic:                     240.4\n",
      "Date:                Wed, 10 May 2023   Prob (F-statistic):          1.39e-179\n",
      "Time:                        21:22:11   Log-Likelihood:                -14031.\n",
      "No. Observations:                3047   AIC:                         2.807e+04\n",
      "Df Residuals:                    3042   BIC:                         2.810e+04\n",
      "Df Model:                           4                                         \n",
      "Covariance Type:            nonrobust                                         \n",
      "==================================================================================\n",
      "                     coef    std err          t      P>|t|      [0.025      0.975]\n",
      "----------------------------------------------------------------------------------\n",
      "Intercept        127.5873      2.110     60.481      0.000     123.451     131.724\n",
      "povertyPercent     1.6696      0.083     20.087      0.000       1.507       1.833\n",
      "PctBlack           0.1364      0.035      3.869      0.000       0.067       0.206\n",
      "PctNoHS18_24      -0.1734      0.057     -3.058      0.002      -0.285      -0.062\n",
      "PctHS18_24         0.7090      0.049     14.518      0.000       0.613       0.805\n",
      "==============================================================================\n",
      "Omnibus:                      156.436   Durbin-Watson:                   1.569\n",
      "Prob(Omnibus):                  0.000   Jarque-Bera (JB):              507.276\n",
      "Skew:                          -0.170   Prob(JB):                    7.02e-111\n",
      "Kurtosis:                       4.970   Cond. No.                         217.\n",
      "==============================================================================\n",
      "\n",
      "Notes:\n",
      "[1] Standard Errors assume that the covariance matrix of the errors is correctly specified.\n"
     ]
    }
   ],
   "source": [
    "import sklearn.linear_model as lm\n",
    "from sklearn.linear_model import LinearRegression\n",
    "import statsmodels.api as sm\n",
    "import statsmodels.formula.api as smf\n",
    "\n",
    "model = smf.ols(formula='TARGET_deathRate ~ povertyPercent + PctBlack + PctNoHS18_24 + PctHS18_24', data=imputed_new)\n",
    "result = model.fit()\n",
    "\n",
    "print(result.summary())"
   ]
  },
  {
   "cell_type": "markdown",
   "id": "98505a4d-7dcc-4f3a-a5d2-504e84e1875f",
   "metadata": {
    "user_expressions": []
   },
   "source": [
    "The initial fit is rather weak, with a R-squared of 0.24. Let us code and add isSoutheast as a categorical variable. To define which states belong to the Southeast, we will be using the regions specified by the Bureau of Economic Analysis, who divide the United States into 8 regions. Finally, we will use ANOVA to discern whether this suggested categorical variable is significant to our regression."
   ]
  },
  {
   "cell_type": "code",
   "execution_count": 27,
   "id": "5e641f17-afb2-4f68-a0a2-c62e9029763b",
   "metadata": {},
   "outputs": [
    {
     "data": {
      "text/plain": [
       "[1, 4, 9, 10, 17, 18, 24, 33, 40, 42, 46, 48]"
      ]
     },
     "execution_count": 27,
     "metadata": {},
     "output_type": "execute_result"
    }
   ],
   "source": [
    "Southeast = [\"Alabama\", \"Arkansas\", \"Florida\", \"Georgia\", \"Kentucky\", \"Louisiana\", \"Mississippi\", \"North Carolina\", \"South Carolina\", \"Tennessee\", \"Virginia\", \"West Virginia\"]\n",
    "Southeast_int = [state_dict[x] for x in Southeast]\n",
    "Southeast_int"
   ]
  },
  {
   "cell_type": "code",
   "execution_count": 28,
   "id": "ec481715-5854-42c3-99f2-59a22f6ce66b",
   "metadata": {},
   "outputs": [
    {
     "data": {
      "text/html": [
       "<div>\n",
       "<style scoped>\n",
       "    .dataframe tbody tr th:only-of-type {\n",
       "        vertical-align: middle;\n",
       "    }\n",
       "\n",
       "    .dataframe tbody tr th {\n",
       "        vertical-align: top;\n",
       "    }\n",
       "\n",
       "    .dataframe thead th {\n",
       "        text-align: right;\n",
       "    }\n",
       "</style>\n",
       "<table border=\"1\" class=\"dataframe\">\n",
       "  <thead>\n",
       "    <tr style=\"text-align: right;\">\n",
       "      <th></th>\n",
       "      <th>avgAnnCount</th>\n",
       "      <th>avgDeathsPerYear</th>\n",
       "      <th>TARGET_deathRate</th>\n",
       "      <th>incidenceRate</th>\n",
       "      <th>medIncome</th>\n",
       "      <th>popEst2015</th>\n",
       "      <th>povertyPercent</th>\n",
       "      <th>studyPerCap</th>\n",
       "      <th>MedianAge</th>\n",
       "      <th>MedianAgeMale</th>\n",
       "      <th>...</th>\n",
       "      <th>PctWhite</th>\n",
       "      <th>PctBlack</th>\n",
       "      <th>PctAsian</th>\n",
       "      <th>PctOtherRace</th>\n",
       "      <th>PctMarriedHouseholds</th>\n",
       "      <th>BirthRate</th>\n",
       "      <th>Target_div_Income</th>\n",
       "      <th>State</th>\n",
       "      <th>Target_div_LogIncome</th>\n",
       "      <th>isSoutheast</th>\n",
       "    </tr>\n",
       "  </thead>\n",
       "  <tbody>\n",
       "    <tr>\n",
       "      <th>0</th>\n",
       "      <td>1397.000000</td>\n",
       "      <td>469.0</td>\n",
       "      <td>164.9</td>\n",
       "      <td>489.800000</td>\n",
       "      <td>61898.0</td>\n",
       "      <td>260131.0</td>\n",
       "      <td>11.2</td>\n",
       "      <td>499.748204</td>\n",
       "      <td>39.3</td>\n",
       "      <td>36.9</td>\n",
       "      <td>...</td>\n",
       "      <td>81.780529</td>\n",
       "      <td>2.594728</td>\n",
       "      <td>4.821857</td>\n",
       "      <td>1.843479</td>\n",
       "      <td>52.856076</td>\n",
       "      <td>6.118831</td>\n",
       "      <td>0.002664</td>\n",
       "      <td>47.0</td>\n",
       "      <td>14.945742</td>\n",
       "      <td>0</td>\n",
       "    </tr>\n",
       "    <tr>\n",
       "      <th>1</th>\n",
       "      <td>173.000000</td>\n",
       "      <td>70.0</td>\n",
       "      <td>161.3</td>\n",
       "      <td>411.600000</td>\n",
       "      <td>48127.0</td>\n",
       "      <td>43269.0</td>\n",
       "      <td>18.6</td>\n",
       "      <td>23.111234</td>\n",
       "      <td>33.0</td>\n",
       "      <td>32.2</td>\n",
       "      <td>...</td>\n",
       "      <td>89.228509</td>\n",
       "      <td>0.969102</td>\n",
       "      <td>2.246233</td>\n",
       "      <td>3.741352</td>\n",
       "      <td>45.372500</td>\n",
       "      <td>4.333096</td>\n",
       "      <td>0.003352</td>\n",
       "      <td>47.0</td>\n",
       "      <td>14.960676</td>\n",
       "      <td>0</td>\n",
       "    </tr>\n",
       "    <tr>\n",
       "      <th>2</th>\n",
       "      <td>102.000000</td>\n",
       "      <td>50.0</td>\n",
       "      <td>174.7</td>\n",
       "      <td>349.700000</td>\n",
       "      <td>49348.0</td>\n",
       "      <td>21026.0</td>\n",
       "      <td>14.6</td>\n",
       "      <td>47.560164</td>\n",
       "      <td>45.0</td>\n",
       "      <td>44.0</td>\n",
       "      <td>...</td>\n",
       "      <td>90.922190</td>\n",
       "      <td>0.739673</td>\n",
       "      <td>0.465898</td>\n",
       "      <td>2.747358</td>\n",
       "      <td>54.444868</td>\n",
       "      <td>3.729488</td>\n",
       "      <td>0.003540</td>\n",
       "      <td>47.0</td>\n",
       "      <td>16.165968</td>\n",
       "      <td>0</td>\n",
       "    </tr>\n",
       "    <tr>\n",
       "      <th>3</th>\n",
       "      <td>427.000000</td>\n",
       "      <td>202.0</td>\n",
       "      <td>194.8</td>\n",
       "      <td>430.400000</td>\n",
       "      <td>44243.0</td>\n",
       "      <td>75882.0</td>\n",
       "      <td>17.1</td>\n",
       "      <td>342.637253</td>\n",
       "      <td>42.8</td>\n",
       "      <td>42.2</td>\n",
       "      <td>...</td>\n",
       "      <td>91.744686</td>\n",
       "      <td>0.782626</td>\n",
       "      <td>1.161359</td>\n",
       "      <td>1.362643</td>\n",
       "      <td>51.021514</td>\n",
       "      <td>4.603841</td>\n",
       "      <td>0.004403</td>\n",
       "      <td>47.0</td>\n",
       "      <td>18.209943</td>\n",
       "      <td>0</td>\n",
       "    </tr>\n",
       "    <tr>\n",
       "      <th>4</th>\n",
       "      <td>57.000000</td>\n",
       "      <td>26.0</td>\n",
       "      <td>144.4</td>\n",
       "      <td>350.100000</td>\n",
       "      <td>49955.0</td>\n",
       "      <td>10321.0</td>\n",
       "      <td>12.5</td>\n",
       "      <td>0.000000</td>\n",
       "      <td>48.3</td>\n",
       "      <td>47.8</td>\n",
       "      <td>...</td>\n",
       "      <td>94.104024</td>\n",
       "      <td>0.270192</td>\n",
       "      <td>0.665830</td>\n",
       "      <td>0.492135</td>\n",
       "      <td>54.027460</td>\n",
       "      <td>6.796657</td>\n",
       "      <td>0.002891</td>\n",
       "      <td>47.0</td>\n",
       "      <td>13.347040</td>\n",
       "      <td>0</td>\n",
       "    </tr>\n",
       "    <tr>\n",
       "      <th>...</th>\n",
       "      <td>...</td>\n",
       "      <td>...</td>\n",
       "      <td>...</td>\n",
       "      <td>...</td>\n",
       "      <td>...</td>\n",
       "      <td>...</td>\n",
       "      <td>...</td>\n",
       "      <td>...</td>\n",
       "      <td>...</td>\n",
       "      <td>...</td>\n",
       "      <td>...</td>\n",
       "      <td>...</td>\n",
       "      <td>...</td>\n",
       "      <td>...</td>\n",
       "      <td>...</td>\n",
       "      <td>...</td>\n",
       "      <td>...</td>\n",
       "      <td>...</td>\n",
       "      <td>...</td>\n",
       "      <td>...</td>\n",
       "      <td>...</td>\n",
       "    </tr>\n",
       "    <tr>\n",
       "      <th>3042</th>\n",
       "      <td>1962.667684</td>\n",
       "      <td>15.0</td>\n",
       "      <td>149.6</td>\n",
       "      <td>453.549422</td>\n",
       "      <td>46961.0</td>\n",
       "      <td>6343.0</td>\n",
       "      <td>12.4</td>\n",
       "      <td>0.000000</td>\n",
       "      <td>44.2</td>\n",
       "      <td>41.1</td>\n",
       "      <td>...</td>\n",
       "      <td>90.280811</td>\n",
       "      <td>3.837754</td>\n",
       "      <td>0.327613</td>\n",
       "      <td>1.700468</td>\n",
       "      <td>51.063830</td>\n",
       "      <td>7.773512</td>\n",
       "      <td>0.003186</td>\n",
       "      <td>16.0</td>\n",
       "      <td>13.907129</td>\n",
       "      <td>0</td>\n",
       "    </tr>\n",
       "    <tr>\n",
       "      <th>3043</th>\n",
       "      <td>1962.667684</td>\n",
       "      <td>43.0</td>\n",
       "      <td>150.1</td>\n",
       "      <td>453.549422</td>\n",
       "      <td>48609.0</td>\n",
       "      <td>37118.0</td>\n",
       "      <td>18.8</td>\n",
       "      <td>377.175494</td>\n",
       "      <td>30.4</td>\n",
       "      <td>29.3</td>\n",
       "      <td>...</td>\n",
       "      <td>75.706245</td>\n",
       "      <td>2.326771</td>\n",
       "      <td>4.044920</td>\n",
       "      <td>14.130288</td>\n",
       "      <td>52.007937</td>\n",
       "      <td>8.186470</td>\n",
       "      <td>0.003088</td>\n",
       "      <td>16.0</td>\n",
       "      <td>13.909013</td>\n",
       "      <td>0</td>\n",
       "    </tr>\n",
       "    <tr>\n",
       "      <th>3044</th>\n",
       "      <td>1962.667684</td>\n",
       "      <td>46.0</td>\n",
       "      <td>153.9</td>\n",
       "      <td>453.549422</td>\n",
       "      <td>51144.0</td>\n",
       "      <td>34536.0</td>\n",
       "      <td>15.0</td>\n",
       "      <td>1968.959926</td>\n",
       "      <td>30.9</td>\n",
       "      <td>30.5</td>\n",
       "      <td>...</td>\n",
       "      <td>87.961629</td>\n",
       "      <td>2.313188</td>\n",
       "      <td>1.316472</td>\n",
       "      <td>5.680705</td>\n",
       "      <td>55.153949</td>\n",
       "      <td>7.809192</td>\n",
       "      <td>0.003009</td>\n",
       "      <td>16.0</td>\n",
       "      <td>14.194274</td>\n",
       "      <td>0</td>\n",
       "    </tr>\n",
       "    <tr>\n",
       "      <th>3045</th>\n",
       "      <td>1962.667684</td>\n",
       "      <td>52.0</td>\n",
       "      <td>175.0</td>\n",
       "      <td>453.549422</td>\n",
       "      <td>50745.0</td>\n",
       "      <td>25609.0</td>\n",
       "      <td>13.3</td>\n",
       "      <td>0.000000</td>\n",
       "      <td>39.0</td>\n",
       "      <td>36.9</td>\n",
       "      <td>...</td>\n",
       "      <td>92.905681</td>\n",
       "      <td>1.176562</td>\n",
       "      <td>0.244632</td>\n",
       "      <td>2.131790</td>\n",
       "      <td>58.484232</td>\n",
       "      <td>7.582938</td>\n",
       "      <td>0.003449</td>\n",
       "      <td>16.0</td>\n",
       "      <td>16.152005</td>\n",
       "      <td>0</td>\n",
       "    </tr>\n",
       "    <tr>\n",
       "      <th>3046</th>\n",
       "      <td>1962.667684</td>\n",
       "      <td>48.0</td>\n",
       "      <td>213.6</td>\n",
       "      <td>453.549422</td>\n",
       "      <td>41193.0</td>\n",
       "      <td>37030.0</td>\n",
       "      <td>13.9</td>\n",
       "      <td>0.000000</td>\n",
       "      <td>26.2</td>\n",
       "      <td>25.5</td>\n",
       "      <td>...</td>\n",
       "      <td>70.098132</td>\n",
       "      <td>16.590100</td>\n",
       "      <td>3.177753</td>\n",
       "      <td>1.356457</td>\n",
       "      <td>56.040242</td>\n",
       "      <td>8.981723</td>\n",
       "      <td>0.005185</td>\n",
       "      <td>16.0</td>\n",
       "      <td>20.101593</td>\n",
       "      <td>0</td>\n",
       "    </tr>\n",
       "  </tbody>\n",
       "</table>\n",
       "<p>3047 rows × 35 columns</p>\n",
       "</div>"
      ],
      "text/plain": [
       "      avgAnnCount  avgDeathsPerYear  TARGET_deathRate  incidenceRate  \\\n",
       "0     1397.000000             469.0             164.9     489.800000   \n",
       "1      173.000000              70.0             161.3     411.600000   \n",
       "2      102.000000              50.0             174.7     349.700000   \n",
       "3      427.000000             202.0             194.8     430.400000   \n",
       "4       57.000000              26.0             144.4     350.100000   \n",
       "...           ...               ...               ...            ...   \n",
       "3042  1962.667684              15.0             149.6     453.549422   \n",
       "3043  1962.667684              43.0             150.1     453.549422   \n",
       "3044  1962.667684              46.0             153.9     453.549422   \n",
       "3045  1962.667684              52.0             175.0     453.549422   \n",
       "3046  1962.667684              48.0             213.6     453.549422   \n",
       "\n",
       "      medIncome  popEst2015  povertyPercent  studyPerCap  MedianAge  \\\n",
       "0       61898.0    260131.0            11.2   499.748204       39.3   \n",
       "1       48127.0     43269.0            18.6    23.111234       33.0   \n",
       "2       49348.0     21026.0            14.6    47.560164       45.0   \n",
       "3       44243.0     75882.0            17.1   342.637253       42.8   \n",
       "4       49955.0     10321.0            12.5     0.000000       48.3   \n",
       "...         ...         ...             ...          ...        ...   \n",
       "3042    46961.0      6343.0            12.4     0.000000       44.2   \n",
       "3043    48609.0     37118.0            18.8   377.175494       30.4   \n",
       "3044    51144.0     34536.0            15.0  1968.959926       30.9   \n",
       "3045    50745.0     25609.0            13.3     0.000000       39.0   \n",
       "3046    41193.0     37030.0            13.9     0.000000       26.2   \n",
       "\n",
       "      MedianAgeMale  ...   PctWhite   PctBlack  PctAsian  PctOtherRace  \\\n",
       "0              36.9  ...  81.780529   2.594728  4.821857      1.843479   \n",
       "1              32.2  ...  89.228509   0.969102  2.246233      3.741352   \n",
       "2              44.0  ...  90.922190   0.739673  0.465898      2.747358   \n",
       "3              42.2  ...  91.744686   0.782626  1.161359      1.362643   \n",
       "4              47.8  ...  94.104024   0.270192  0.665830      0.492135   \n",
       "...             ...  ...        ...        ...       ...           ...   \n",
       "3042           41.1  ...  90.280811   3.837754  0.327613      1.700468   \n",
       "3043           29.3  ...  75.706245   2.326771  4.044920     14.130288   \n",
       "3044           30.5  ...  87.961629   2.313188  1.316472      5.680705   \n",
       "3045           36.9  ...  92.905681   1.176562  0.244632      2.131790   \n",
       "3046           25.5  ...  70.098132  16.590100  3.177753      1.356457   \n",
       "\n",
       "      PctMarriedHouseholds  BirthRate  Target_div_Income  State  \\\n",
       "0                52.856076   6.118831           0.002664   47.0   \n",
       "1                45.372500   4.333096           0.003352   47.0   \n",
       "2                54.444868   3.729488           0.003540   47.0   \n",
       "3                51.021514   4.603841           0.004403   47.0   \n",
       "4                54.027460   6.796657           0.002891   47.0   \n",
       "...                    ...        ...                ...    ...   \n",
       "3042             51.063830   7.773512           0.003186   16.0   \n",
       "3043             52.007937   8.186470           0.003088   16.0   \n",
       "3044             55.153949   7.809192           0.003009   16.0   \n",
       "3045             58.484232   7.582938           0.003449   16.0   \n",
       "3046             56.040242   8.981723           0.005185   16.0   \n",
       "\n",
       "      Target_div_LogIncome  isSoutheast  \n",
       "0                14.945742            0  \n",
       "1                14.960676            0  \n",
       "2                16.165968            0  \n",
       "3                18.209943            0  \n",
       "4                13.347040            0  \n",
       "...                    ...          ...  \n",
       "3042             13.907129            0  \n",
       "3043             13.909013            0  \n",
       "3044             14.194274            0  \n",
       "3045             16.152005            0  \n",
       "3046             20.101593            0  \n",
       "\n",
       "[3047 rows x 35 columns]"
      ]
     },
     "execution_count": 28,
     "metadata": {},
     "output_type": "execute_result"
    }
   ],
   "source": [
    "imputed_new['isSoutheast'] = imputed_new['State'].isin(Southeast_int).astype(int)\n",
    "imputed_new"
   ]
  },
  {
   "cell_type": "code",
   "execution_count": 29,
   "id": "782ab3af-8789-427e-9ba7-0da329b07f8b",
   "metadata": {},
   "outputs": [
    {
     "name": "stdout",
     "output_type": "stream",
     "text": [
      "                            OLS Regression Results                            \n",
      "==============================================================================\n",
      "Dep. Variable:       TARGET_deathRate   R-squared:                       0.267\n",
      "Model:                            OLS   Adj. R-squared:                  0.266\n",
      "Method:                 Least Squares   F-statistic:                     221.6\n",
      "Date:                Wed, 10 May 2023   Prob (F-statistic):          4.65e-202\n",
      "Time:                        21:22:15   Log-Likelihood:                -13976.\n",
      "No. Observations:                3047   AIC:                         2.796e+04\n",
      "Df Residuals:                    3041   BIC:                         2.800e+04\n",
      "Df Model:                           5                                         \n",
      "Covariance Type:            nonrobust                                         \n",
      "==================================================================================\n",
      "                     coef    std err          t      P>|t|      [0.025      0.975]\n",
      "----------------------------------------------------------------------------------\n",
      "Intercept        130.1146      2.086     62.374      0.000     126.024     134.205\n",
      "povertyPercent     1.4814      0.084     17.726      0.000       1.318       1.645\n",
      "PctBlack          -0.0416      0.039     -1.080      0.280      -0.117       0.034\n",
      "PctNoHS18_24      -0.1066      0.056     -1.902      0.057      -0.217       0.003\n",
      "PctHS18_24         0.6219      0.049     12.776      0.000       0.526       0.717\n",
      "isSoutheast       11.9612      1.133     10.556      0.000       9.739      14.183\n",
      "==============================================================================\n",
      "Omnibus:                      141.721   Durbin-Watson:                   1.604\n",
      "Prob(Omnibus):                  0.000   Jarque-Bera (JB):              433.480\n",
      "Skew:                          -0.154   Prob(JB):                     7.43e-95\n",
      "Kurtosis:                       4.822   Cond. No.                         219.\n",
      "==============================================================================\n",
      "\n",
      "Notes:\n",
      "[1] Standard Errors assume that the covariance matrix of the errors is correctly specified.\n"
     ]
    }
   ],
   "source": [
    "model1 = smf.ols(formula='TARGET_deathRate ~ povertyPercent + PctBlack + PctNoHS18_24 + PctHS18_24 + isSoutheast', data=imputed_new)\n",
    "result1 = model1.fit()\n",
    "\n",
    "print(result1.summary())"
   ]
  },
  {
   "cell_type": "markdown",
   "id": "51cbb891-d11d-4c87-8a40-d5444138cdad",
   "metadata": {
    "user_expressions": []
   },
   "source": [
    "## Step 2: Feature Selection using LASSO"
   ]
  },
  {
   "cell_type": "markdown",
   "id": "611364bc-12c8-468e-aef0-71f1081dc6f5",
   "metadata": {
    "user_expressions": []
   },
   "source": [
    "To add variables of interest, we will be using Lasso regression using the minimum residual deviance Lambda value, which will be obtained using cross-validation. "
   ]
  },
  {
   "cell_type": "code",
   "execution_count": 30,
   "id": "b71b6b6a-be05-4ef4-a0dd-09b5023f1a1d",
   "metadata": {},
   "outputs": [
    {
     "data": {
      "text/plain": [
       "0.1036378151764025"
      ]
     },
     "execution_count": 30,
     "metadata": {},
     "output_type": "execute_result"
    }
   ],
   "source": [
    "from sklearn.linear_model import LassoCV\n",
    "\n",
    "\n",
    "y = imputed_new['TARGET_deathRate']\n",
    "x = imputed_new[['povertyPercent', 'PctBlack', 'PctHS18_24',\n",
    "                 'PctNoHS18_24', 'isSoutheast','PctPublicCoverage',\n",
    "                 'PctPublicCoverageAlone', \"PctUnemployed16_Over\"]]\n",
    "\n",
    "modelcvalpha = LassoCV(alphas = None, cv = 10, max_iter = 100000).fit(x, y)\n",
    "\n",
    "alpha = getattr(modelcvalpha, 'alpha_')\n",
    "alpha"
   ]
  },
  {
   "cell_type": "code",
   "execution_count": 31,
   "id": "a5e75285-0a08-481d-8a64-0885d4d1d28f",
   "metadata": {},
   "outputs": [
    {
     "name": "stdout",
     "output_type": "stream",
     "text": [
      "original alpha coefficients: [ 6.18181993e-01  6.51711241e-04  4.98726850e-01 -1.89012910e-01\n",
      "  1.07662463e+01  3.04999629e-01  6.05695117e-01  5.43496705e-01]\n",
      "medium penalty alpha coefficients: [ 0.68629493  0.09569364  0.53236952 -0.20267754  4.6051785   0.30719053\n",
      "  0.61788852  0.50146913]\n",
      "large penalty alpha coefficients: [ 0.73507278  0.1688434   0.5539995  -0.20376628  0.          0.30902248\n",
      "  0.62794433  0.43131725]\n"
     ]
    }
   ],
   "source": [
    "newmodel = lm.Lasso(alpha=alpha)\n",
    "newmodel = newmodel.fit(x, y)\n",
    "\n",
    "coefs = getattr(newmodel, 'coef_')\n",
    "print('original alpha coefficients:', coefs)\n",
    "\n",
    "med_penalty = lm.Lasso(alpha=alpha * 10)\n",
    "med_penalty = med_penalty.fit(x, y)\n",
    "\n",
    "coefs2 = getattr(med_penalty, 'coef_')\n",
    "print('medium penalty alpha coefficients:', coefs2)\n",
    "\n",
    "big_penalty = lm.Lasso(alpha=2.1288)\n",
    "big_penalty = big_penalty.fit(x, y)\n",
    "\n",
    "coefs3 = getattr(big_penalty, 'coef_')\n",
    "print('large penalty alpha coefficients:', coefs3)"
   ]
  },
  {
   "cell_type": "markdown",
   "id": "1bd74886-5870-424c-8bde-6c1d166f1d91",
   "metadata": {
    "user_expressions": []
   },
   "source": [
    "Based on the result of the optimal LASSO regression using the alpha value of 0.103 that minimizes residual deviance using the LassoCV function, we observe that none of the coefficients are in fact regularized out of the model. In fact, even with an alpha hyperparameter of 10 times the optimal alpha value, still no covariates are removed from the model. From what we can see, it seems that the 2nd covariate, 'PctBlack', is the most close to 0 in both cases. We will investigate the statistical significance of these variables more closely in the following section, bootstrapping, but it is interesting to realize that even by applying the canonical LASSO method which should tend to regularize out covariates and give a more parsimonious model, we need to employ quite a larger hyperparameter to realize the effect of shrinkage.\n",
    "\n",
    "We note that in the original R analysis from which this project is based using the glmnet package, the lambda value that reaches 1 standard error away from the minimum is 2.1288. For comparison's sake, we implement this alpha value as well to determine if shrinkage occurs. Indeed we see that the 5th covariate, 'isSoutheast', has been removed from the model as opposed to simply the covariate with the smallest magnitude.\n",
    "\n",
    "What we can determine from these results is ultimately sparse, as there was no consistent pattern seeing as only 1 coefficient was selected out of the model. While feature selection has indeed occurred using the larger alpha value, it is not certain to see that this necessarily generates the best model, or that the 'isSoutheast' is the worst feature. This motivates our second point of analysis, which relaxes the assumptions of linear modeling, which is the nonparametric bootstrap method of generating confidence intervals for different parameters."
   ]
  },
  {
   "cell_type": "markdown",
   "id": "35c90d72-52f0-4b8b-836a-791c4a60cd7b",
   "metadata": {
    "user_expressions": []
   },
   "source": [
    "## Step 3: Statistical Inference using Nonparametric Bootstrap"
   ]
  },
  {
   "cell_type": "markdown",
   "id": "e98f0cab-8ee3-41fd-b563-914b037f18a3",
   "metadata": {
    "user_expressions": []
   },
   "source": [
    "We apply a nonparametric bootstrap approach to determine the statistical significance of the various parameters involved in the imputed dataset. This will relax the assumptions of the linear modeling, specifically the assumption of normally distributed errors, and allow us to visualize the distributions of these coefficients."
   ]
  },
  {
   "cell_type": "code",
   "execution_count": 32,
   "id": "ede239e3-c8f0-47f9-a0cd-9dc405ea6c53",
   "metadata": {},
   "outputs": [],
   "source": [
    "povertyPercent = []\n",
    "PctHS18_24 = []\n",
    "isSoutheast = []\n",
    "PctPublicCoverage = []\n",
    "PctPublicCoverageAlone = []\n",
    "PctUnemployed16_Over = []\n",
    "\n",
    "for i in range(1000):\n",
    "    bootparams = ls.bootstrap_model(imputed_new)\n",
    "    povertyPercent += [bootparams[0]]\n",
    "    PctHS18_24 += [bootparams[1]]\n",
    "    isSoutheast += [bootparams[2]]\n",
    "    PctPublicCoverage += [bootparams[3]]\n",
    "    PctPublicCoverageAlone += [bootparams[4]]\n",
    "    PctUnemployed16_Over += [bootparams[5]]\n",
    "    \n",
    "orig_params = smf.ols(formula=\"TARGET_deathRate ~ povertyPercent + PctHS18_24 + isSoutheast + PctPublicCoverage + PctPublicCoverageAlone + PctUnemployed16_Over\", data=imputed_new).fit().params[1:]\n"
   ]
  },
  {
   "cell_type": "markdown",
   "id": "3fbcc108-a548-45ec-af20-860a705c121b",
   "metadata": {
    "user_expressions": []
   },
   "source": [
    "The above code utilizes the function `bootstrap_model` from the ols module of the cancerolstools package, which conducts a nonparametric bootstrap on given data and extracts linear regression coefficients. We additionally locate the original parameters on the original sample for comparison."
   ]
  },
  {
   "cell_type": "code",
   "execution_count": 33,
   "id": "59bfe847-7be6-4c1d-acce-75cd91614a33",
   "metadata": {},
   "outputs": [],
   "source": [
    "#make df of results\n",
    "\n",
    "bootdf = pd.DataFrame({'povertyPercent': povertyPercent,\n",
    "                       'PctHS18_24': PctHS18_24,\n",
    "                       'isSoutheast': isSoutheast,\n",
    "                       'PctPublicCoverage': PctPublicCoverage,\n",
    "                       'PctPublicCoverageAlone': PctPublicCoverageAlone,\n",
    "                       'PctUnemployed16_Over': PctUnemployed16_Over})"
   ]
  },
  {
   "cell_type": "code",
   "execution_count": 34,
   "id": "9460d27b-2b9f-43b9-b8b0-9eef7a579494",
   "metadata": {},
   "outputs": [
    {
     "data": {
      "image/png": "[encoded data removed]",
      "text/plain": [
       "<Figure size 900x900 with 6 Axes>"
      ]
     },
     "metadata": {},
     "output_type": "display_data"
    }
   ],
   "source": [
    "# plot SBS hists of vars in df\n",
    "\n",
    "fig, axs = plt.subplots(6, 1, figsize=(9, 9))\n",
    "plt.subplots_adjust(bottom=-1)\n",
    "\n",
    "for i in range(len(bootdf.columns)):\n",
    "    axs[i].axvline(x=np.percentile(bootdf[bootdf.columns[i]], 2.5), color='orange')\n",
    "    axs[i].axvline(x=np.percentile(bootdf[bootdf.columns[i]], 97.5), color='orange')\n",
    "    axs[i].axvline(x=orig_params[i], color='green')\n",
    "    axs[i].axvline(x=np.percentile(bootdf[bootdf.columns[i]], 2.5/6), color='red')\n",
    "    axs[i].axvline(x=np.percentile(bootdf[bootdf.columns[i]], 100-(2.5/6)), color='red')\n",
    "    sns.histplot(data=bootdf, x=str(bootdf.columns[i]), ax=axs[i])\n",
    "    \n",
    "plt.suptitle('95% confidence intervals for linear regression coefficients')\n",
    "plt.savefig('figures/Confidence_Interval_Hist.png')"
   ]
  },
  {
   "cell_type": "markdown",
   "id": "49a697d7-c3d8-404f-8982-6c1ac2bba48f",
   "metadata": {
    "user_expressions": []
   },
   "source": [
    "We employ a Bonferroni correction (in red) to account for the simultaneous construction of 6 confidence intervals and 6 hypothesis tests.\n",
    "\n",
    "From initial inspection, it’s clear that povertyPercent, PctHS18_24, and isSoutheastYes\n",
    "all reject the null hypothesis that the respective coefficient effect is actually 0. Upon inspecting\n",
    "PctUnemployed16_Over’s bottom quantile, it appears this variable fails to reject\n",
    "the null hypothesis that the respective coefficient effect is actually 0. PctPublicCoverage and\n",
    "PctPublicCoverageAlone both fail to reject the hypothesis that the coefficient effect is actually 0 if a Bonferroni correction is applied.\n",
    "\n",
    "Based on these inference results, each of the variables with a confidence interval that doesn’t\n",
    "include 0 does have some effect on cancer mortality, while we cannot for certain say the same for\n",
    "PctPublicCoverage and PctPublicCoverageAlone, whose confidence interval does contain 0.\n",
    "These conclusions of course are contingent on confidence level selected (0.05 with a Bonferroni\n",
    "Correction), the randomness of the Bootstrap (10000 replications), as well as the randomness of\n",
    "the imputation process."
   ]
  },
  {
   "cell_type": "markdown",
   "id": "13b6cddd-d7c4-4c5c-bf5a-514c4d114ef9",
   "metadata": {
    "user_expressions": []
   },
   "source": [
    "## Step 4: Conclusion of the Model"
   ]
  },
  {
   "cell_type": "code",
   "execution_count": 35,
   "id": "7803a8e1-a63c-46c9-ab1a-9d8dd9cd755f",
   "metadata": {},
   "outputs": [
    {
     "name": "stdout",
     "output_type": "stream",
     "text": [
      "                            OLS Regression Results                            \n",
      "==============================================================================\n",
      "Dep. Variable:       TARGET_deathRate   R-squared:                       0.287\n",
      "Model:                            OLS   Adj. R-squared:                  0.285\n",
      "Method:                 Least Squares   F-statistic:                     203.5\n",
      "Date:                Wed, 10 May 2023   Prob (F-statistic):          1.15e-218\n",
      "Time:                        21:22:40   Log-Likelihood:                -13935.\n",
      "No. Observations:                3047   AIC:                         2.788e+04\n",
      "Df Residuals:                    3040   BIC:                         2.793e+04\n",
      "Df Model:                           6                                         \n",
      "Covariance Type:            nonrobust                                         \n",
      "==========================================================================================\n",
      "                             coef    std err          t      P>|t|      [0.025      0.975]\n",
      "------------------------------------------------------------------------------------------\n",
      "Intercept                122.3032      2.484     49.234      0.000     117.433     127.174\n",
      "povertyPercent             0.5638      0.121      4.672      0.000       0.327       0.800\n",
      "PctHS18_24                 0.4931      0.050      9.922      0.000       0.396       0.591\n",
      "isSoutheast               11.6651      1.016     11.485      0.000       9.674      13.657\n",
      "PctPublicCoverage          0.2811      0.111      2.535      0.011       0.064       0.498\n",
      "PctPublicCoverageAlone     0.5704      0.183      3.123      0.002       0.212       0.929\n",
      "PctUnemployed16_Over       0.5630      0.173      3.253      0.001       0.224       0.902\n",
      "==============================================================================\n",
      "Omnibus:                      150.486   Durbin-Watson:                   1.579\n",
      "Prob(Omnibus):                  0.000   Jarque-Bera (JB):              514.948\n",
      "Skew:                          -0.109   Prob(JB):                    1.52e-112\n",
      "Kurtosis:                       5.002   Cond. No.                         341.\n",
      "==============================================================================\n",
      "\n",
      "Notes:\n",
      "[1] Standard Errors assume that the covariance matrix of the errors is correctly specified.\n"
     ]
    }
   ],
   "source": [
    "orig_params_model = smf.ols(formula=\"TARGET_deathRate ~ povertyPercent + PctHS18_24 + isSoutheast + PctPublicCoverage + PctPublicCoverageAlone + PctUnemployed16_Over\", data=imputed_new).fit()\n",
    "print(orig_params_model.summary())"
   ]
  },
  {
   "cell_type": "markdown",
   "id": "5ed2286c-df1a-4a27-ac4d-aff76aa940b5",
   "metadata": {
    "user_expressions": []
   },
   "source": [
    "Based on the results of my modeling using Lasso regression and Bootstrap inference, we\n",
    "came to the following conclusions to the research question. \n",
    "\n",
    "For every percent increase of a county's population in poverty, on average the cancer mortality per 100,000 residents in a county increases by approximately 0.563 individuals (CI: 0.2000-0.9467). For every percent increase of county residents ages 18-24 who’s highest education attained is a high school diploma, on average the cancer mortality per 100,000 residents increases by 0.4931 (CI: 0.3419-0.6497).\n",
    "\n",
    "Compared to other regions of the United States, Southeast counties have on average 11.66 (CI:\n",
    "8.642-14.6664) more cancer deaths per 100,000 residents. For every percent increase of county\n",
    "residents with government-provided health coverage, on average the cancer mortality per 100,000 residents in a county increases by approximately 0.2811 individuals (CI: -0.06139 -0.6253). \n",
    "\n",
    "For every percent increase of county residents with government-provided health coverage alone, on average the cancer mortality per 100,000 residents in a county increases by approximately 0.5704 individuals (CI: -0.00614-1.1627). Finally, for every percent increase of county residents ages 16 and over unemployed, on average the cancer mortality per 100,000 residents in a county increases by approximately 0.563 individuals (CI: 0.0119-1.1144).\n",
    "\n",
    "\n",
    "From these conclusions, the most important finding is that counties in the Southeast\n",
    "region of the United States have significantly higher cancer mortality than other regions of the\n",
    "United States. It is important to note that these conclusions have some limitations, including the\n",
    "fact that the data ends at 2016 and only includes deaths from lung cancer, and that the modeling\n",
    "assumes no excessive collinearity and utilizes techniques such as Lasso or Bootstrapping, which\n",
    "have an aspect of randomness. Regardless, from these conclusions we would suggest further\n",
    "research on specifically the Southeast region of the United States, to better understand the\n",
    "specific causes of such higher mortality rates. Additionally, based on the results, education and\n",
    "poverty were identified as significant predictors of cancer mortality, suggesting a few areas of\n",
    "focus to start research on. Overall, the results highlight the need for federal action to aid these\n",
    "Southeast communities, which in turn will reduce cancer mortality overall in the United States."
   ]
  }
 ],
 "metadata": {
  "kernelspec": {
   "display_name": "Python 3 (ipykernel)",
   "language": "python",
   "name": "python3"
  },
  "language_info": {
   "codemirror_mode": {
    "name": "ipython",
    "version": 3
   },
   "file_extension": ".py",
   "mimetype": "text/x-python",
   "name": "python",
   "nbconvert_exporter": "python",
   "pygments_lexer": "ipython3",
   "version": "3.10.8"
  }
 },
 "nbformat": 4,
 "nbformat_minor": 5
}

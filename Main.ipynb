{
 "cells": [
  {
   "cell_type": "markdown",
   "id": "17530d69-3d67-45a3-b5c4-2754d8c9c9d6",
   "metadata": {},
   "source": [
    "#INTRODUCTION"
   ]
  },
  {
   "cell_type": "markdown",
   "id": "ee3264e1-0937-4aa4-8bb2-5190682c982f",
   "metadata": {
    "user_expressions": []
   },
   "source": [
    "The analysis of cancer death rates across the United States plays a crucial role in understanding the factors influencing these rates and developing effective public health strategies to reduce the impact of cancer on communities. In this study, we utilize two datasets: the FIPS dataset containing geographical information of counties, and the Cancer Regression dataset, which provides data on cancer death rates and other associated variables.\n",
    "\n",
    "The FIPS dataset comprises of Federal Information Processing Standards (FIPS) codes, county names, state names, and their respective abbreviations. This dataset allows us to filter and analyze data based on specific locations of interest across the country. For instance, we can extract information for Alameda County in California using the STATE_COUNTY column.\n",
    "\n",
    "On the other hand, the Cancer Regression dataset provides a comprehensive view of cancer death rates and related variables such as average annual count of cancer cases, average deaths per year, incidence rates, median income, population estimates, and racial demographics, among others. Our team has conducted data exploration and cleaning on this dataset to better understand the variables related to cancer death rates and prepare the data for further analysis.\n",
    "\n",
    "In our dataset, there are numerous features and one key label, TARGET_deathRate, which represents the cancer death rate per 100,000 population at risk. As the label has continuous numerical values, this dataset presents a regression problem. The majority of the features in the dataset are numerical, with the exception of 'binnedInc,' which is a categorical variable representing the income bracket. We have ensured that there are no missing data in the dataset, enabling us to perform accurate and reliable analyses.\n",
    "\n",
    "By investigating these datasets, we aim to identify patterns and trends in cancer death rates and uncover the potential factors that contribute to these rates. The insights gained from this analysis can help inform data-driven policy-making and healthcare initiatives to mitigate the impact of cancer on communities across the United States."
   ]
  },
  {
   "cell_type": "code",
   "execution_count": 3,
   "id": "e563fc3d-7f48-4c73-b24b-95efa0407c32",
   "metadata": {},
   "outputs": [],
   "source": [
    "#Purpose of Analysis\n"
   ]
  },
  {
   "cell_type": "markdown",
   "id": "5ef18f19-5329-4478-86e4-073fae4c61f6",
   "metadata": {
    "user_expressions": []
   },
   "source": []
  },
  {
   "cell_type": "code",
   "execution_count": null,
   "id": "8c411d14-2c12-4b9a-9dbf-6bc62585cae2",
   "metadata": {},
   "outputs": [],
   "source": []
  }
 ],
 "metadata": {
  "kernelspec": {
   "display_name": "Python 3 (ipykernel)",
   "language": "python",
   "name": "python3"
  },
  "language_info": {
   "codemirror_mode": {
    "name": "ipython",
    "version": 3
   },
   "file_extension": ".py",
   "mimetype": "text/x-python",
   "name": "python",
   "nbconvert_exporter": "python",
   "pygments_lexer": "ipython3",
   "version": "3.10.8"
  }
 },
 "nbformat": 4,
 "nbformat_minor": 5
}
